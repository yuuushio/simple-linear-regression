{
 "cells": [
  {
   "cell_type": "code",
   "execution_count": 2,
   "id": "4d28798f-68be-4ab4-975f-c31b8f392a48",
   "metadata": {},
   "outputs": [
    {
     "name": "stderr",
     "output_type": "stream",
     "text": [
      "/home/y/Desktop/Work/data_analytics/linear_regression/src/.venv/lib/python3.13/site-packages/tqdm/auto.py:21: TqdmWarning: IProgress not found. Please update jupyter and ipywidgets. See https://ipywidgets.readthedocs.io/en/stable/user_install.html\n",
      "  from .autonotebook import tqdm as notebook_tqdm\n"
     ]
    },
    {
     "name": "stdout",
     "output_type": "stream",
     "text": [
      "Path to dataset files: /home/y/.cache/kagglehub/datasets/denkuznetz/food-delivery-time-prediction/versions/1\n"
     ]
    }
   ],
   "source": [
    "import kagglehub\n",
    "\n",
    "# Download latest version\n",
    "path = kagglehub.dataset_download(\"denkuznetz/food-delivery-time-prediction\")\n",
    "\n",
    "print(\"Path to dataset files:\", path)"
   ]
  },
  {
   "cell_type": "code",
   "execution_count": 3,
   "id": "6a4fa05c-4c6b-42c9-affe-b81931a6eb17",
   "metadata": {},
   "outputs": [],
   "source": [
    "import pandas as pd"
   ]
  },
  {
   "cell_type": "code",
   "execution_count": 4,
   "id": "0ee77bb8-473c-4902-806f-b5d85cb595fc",
   "metadata": {},
   "outputs": [],
   "source": [
    "df = pd.read_csv(f\"{path}/Food_Delivery_Times.csv\")"
   ]
  },
  {
   "cell_type": "code",
   "execution_count": 5,
   "id": "986f0ab6-bc9b-401c-92a4-7e5e03368ddf",
   "metadata": {},
   "outputs": [
    {
     "data": {
      "text/html": [
       "<div>\n",
       "<style scoped>\n",
       "    .dataframe tbody tr th:only-of-type {\n",
       "        vertical-align: middle;\n",
       "    }\n",
       "\n",
       "    .dataframe tbody tr th {\n",
       "        vertical-align: top;\n",
       "    }\n",
       "\n",
       "    .dataframe thead th {\n",
       "        text-align: right;\n",
       "    }\n",
       "</style>\n",
       "<table border=\"1\" class=\"dataframe\">\n",
       "  <thead>\n",
       "    <tr style=\"text-align: right;\">\n",
       "      <th></th>\n",
       "      <th>Order_ID</th>\n",
       "      <th>Distance_km</th>\n",
       "      <th>Weather</th>\n",
       "      <th>Traffic_Level</th>\n",
       "      <th>Time_of_Day</th>\n",
       "      <th>Vehicle_Type</th>\n",
       "      <th>Preparation_Time_min</th>\n",
       "      <th>Courier_Experience_yrs</th>\n",
       "      <th>Delivery_Time_min</th>\n",
       "    </tr>\n",
       "  </thead>\n",
       "  <tbody>\n",
       "    <tr>\n",
       "      <th>0</th>\n",
       "      <td>522</td>\n",
       "      <td>7.93</td>\n",
       "      <td>Windy</td>\n",
       "      <td>Low</td>\n",
       "      <td>Afternoon</td>\n",
       "      <td>Scooter</td>\n",
       "      <td>12</td>\n",
       "      <td>1.0</td>\n",
       "      <td>43</td>\n",
       "    </tr>\n",
       "    <tr>\n",
       "      <th>1</th>\n",
       "      <td>738</td>\n",
       "      <td>16.42</td>\n",
       "      <td>Clear</td>\n",
       "      <td>Medium</td>\n",
       "      <td>Evening</td>\n",
       "      <td>Bike</td>\n",
       "      <td>20</td>\n",
       "      <td>2.0</td>\n",
       "      <td>84</td>\n",
       "    </tr>\n",
       "    <tr>\n",
       "      <th>2</th>\n",
       "      <td>741</td>\n",
       "      <td>9.52</td>\n",
       "      <td>Foggy</td>\n",
       "      <td>Low</td>\n",
       "      <td>Night</td>\n",
       "      <td>Scooter</td>\n",
       "      <td>28</td>\n",
       "      <td>1.0</td>\n",
       "      <td>59</td>\n",
       "    </tr>\n",
       "    <tr>\n",
       "      <th>3</th>\n",
       "      <td>661</td>\n",
       "      <td>7.44</td>\n",
       "      <td>Rainy</td>\n",
       "      <td>Medium</td>\n",
       "      <td>Afternoon</td>\n",
       "      <td>Scooter</td>\n",
       "      <td>5</td>\n",
       "      <td>1.0</td>\n",
       "      <td>37</td>\n",
       "    </tr>\n",
       "    <tr>\n",
       "      <th>4</th>\n",
       "      <td>412</td>\n",
       "      <td>19.03</td>\n",
       "      <td>Clear</td>\n",
       "      <td>Low</td>\n",
       "      <td>Morning</td>\n",
       "      <td>Bike</td>\n",
       "      <td>16</td>\n",
       "      <td>5.0</td>\n",
       "      <td>68</td>\n",
       "    </tr>\n",
       "  </tbody>\n",
       "</table>\n",
       "</div>"
      ],
      "text/plain": [
       "   Order_ID  Distance_km Weather Traffic_Level Time_of_Day Vehicle_Type  \\\n",
       "0       522         7.93   Windy           Low   Afternoon      Scooter   \n",
       "1       738        16.42   Clear        Medium     Evening         Bike   \n",
       "2       741         9.52   Foggy           Low       Night      Scooter   \n",
       "3       661         7.44   Rainy        Medium   Afternoon      Scooter   \n",
       "4       412        19.03   Clear           Low     Morning         Bike   \n",
       "\n",
       "   Preparation_Time_min  Courier_Experience_yrs  Delivery_Time_min  \n",
       "0                    12                     1.0                 43  \n",
       "1                    20                     2.0                 84  \n",
       "2                    28                     1.0                 59  \n",
       "3                     5                     1.0                 37  \n",
       "4                    16                     5.0                 68  "
      ]
     },
     "execution_count": 5,
     "metadata": {},
     "output_type": "execute_result"
    }
   ],
   "source": [
    "df.head(5)"
   ]
  },
  {
   "cell_type": "code",
   "execution_count": 6,
   "id": "dd222b21-a827-4b94-a47c-0006fb6dd0f9",
   "metadata": {},
   "outputs": [],
   "source": [
    "# fix column names\n",
    "df.columns = [x.lower() for x in df.columns]"
   ]
  },
  {
   "cell_type": "code",
   "execution_count": 7,
   "id": "bb46c655-6b90-4dc5-a98d-7ad652292d4e",
   "metadata": {},
   "outputs": [
    {
     "data": {
      "text/plain": [
       "Index(['order_id', 'distance_km', 'weather', 'traffic_level', 'time_of_day',\n",
       "       'vehicle_type', 'preparation_time_min', 'courier_experience_yrs',\n",
       "       'delivery_time_min'],\n",
       "      dtype='object')"
      ]
     },
     "execution_count": 7,
     "metadata": {},
     "output_type": "execute_result"
    }
   ],
   "source": [
    "df.columns"
   ]
  },
  {
   "cell_type": "code",
   "execution_count": 8,
   "id": "2378aad9-51dd-4ec4-8c64-b4f728f4f5f4",
   "metadata": {},
   "outputs": [
    {
     "data": {
      "text/html": [
       "<div>\n",
       "<style scoped>\n",
       "    .dataframe tbody tr th:only-of-type {\n",
       "        vertical-align: middle;\n",
       "    }\n",
       "\n",
       "    .dataframe tbody tr th {\n",
       "        vertical-align: top;\n",
       "    }\n",
       "\n",
       "    .dataframe thead th {\n",
       "        text-align: right;\n",
       "    }\n",
       "</style>\n",
       "<table border=\"1\" class=\"dataframe\">\n",
       "  <thead>\n",
       "    <tr style=\"text-align: right;\">\n",
       "      <th></th>\n",
       "      <th>distance_km</th>\n",
       "      <th>delivery_time_min</th>\n",
       "    </tr>\n",
       "  </thead>\n",
       "  <tbody>\n",
       "    <tr>\n",
       "      <th>0</th>\n",
       "      <td>7.93</td>\n",
       "      <td>43</td>\n",
       "    </tr>\n",
       "    <tr>\n",
       "      <th>1</th>\n",
       "      <td>16.42</td>\n",
       "      <td>84</td>\n",
       "    </tr>\n",
       "  </tbody>\n",
       "</table>\n",
       "</div>"
      ],
      "text/plain": [
       "   distance_km  delivery_time_min\n",
       "0         7.93                 43\n",
       "1        16.42                 84"
      ]
     },
     "execution_count": 8,
     "metadata": {},
     "output_type": "execute_result"
    }
   ],
   "source": [
    "df = df[[\"distance_km\", \"delivery_time_min\"]]\n",
    "df.head(2)"
   ]
  },
  {
   "cell_type": "code",
   "execution_count": 9,
   "id": "f6e6d467-a487-4dc2-8eea-ccb6f53e15d8",
   "metadata": {},
   "outputs": [],
   "source": [
    "def calc_wb(x,y,w,b):\n",
    "    new_w = -2*x*(y-(w*x+b))\n",
    "    new_b = -2*(y-(w*x+b))\n",
    "\n",
    "    return new_w, new_b"
   ]
  },
  {
   "cell_type": "markdown",
   "id": "ebf2dfeb-7b77-4d63-b318-6880a0f942d7",
   "metadata": {},
   "source": [
    "We need to run calc_wb on every row."
   ]
  },
  {
   "cell_type": "code",
   "execution_count": 10,
   "id": "98849df5-38fe-4d14-94a2-f799aa5a7e6b",
   "metadata": {},
   "outputs": [
    {
     "data": {
      "text/html": [
       "<div>\n",
       "<style scoped>\n",
       "    .dataframe tbody tr th:only-of-type {\n",
       "        vertical-align: middle;\n",
       "    }\n",
       "\n",
       "    .dataframe tbody tr th {\n",
       "        vertical-align: top;\n",
       "    }\n",
       "\n",
       "    .dataframe thead th {\n",
       "        text-align: right;\n",
       "    }\n",
       "</style>\n",
       "<table border=\"1\" class=\"dataframe\">\n",
       "  <thead>\n",
       "    <tr style=\"text-align: right;\">\n",
       "      <th></th>\n",
       "      <th>distance_km</th>\n",
       "      <th>delivery_time_min</th>\n",
       "    </tr>\n",
       "  </thead>\n",
       "  <tbody>\n",
       "    <tr>\n",
       "      <th>0</th>\n",
       "      <td>7.93</td>\n",
       "      <td>43</td>\n",
       "    </tr>\n",
       "    <tr>\n",
       "      <th>1</th>\n",
       "      <td>16.42</td>\n",
       "      <td>84</td>\n",
       "    </tr>\n",
       "  </tbody>\n",
       "</table>\n",
       "</div>"
      ],
      "text/plain": [
       "   distance_km  delivery_time_min\n",
       "0         7.93                 43\n",
       "1        16.42                 84"
      ]
     },
     "execution_count": 10,
     "metadata": {},
     "output_type": "execute_result"
    }
   ],
   "source": [
    "x_vector = df[\"distance_km\"].to_numpy()\n",
    "y_vector = df[\"delivery_time_min\"].to_numpy()\n",
    "df.head(2)"
   ]
  },
  {
   "cell_type": "code",
   "execution_count": 13,
   "id": "65982a21-999d-46a7-9bf7-9b8a068c1e66",
   "metadata": {},
   "outputs": [
    {
     "data": {
      "text/plain": [
       "(1000, 2)"
      ]
     },
     "execution_count": 13,
     "metadata": {},
     "output_type": "execute_result"
    }
   ],
   "source": [
    "df.shape"
   ]
  },
  {
   "cell_type": "code",
   "execution_count": 29,
   "id": "bc2938f6-08a7-453d-b962-77aa8b5aadb4",
   "metadata": {},
   "outputs": [],
   "source": [
    "# need to call calc_wb n times\n",
    "def get_gradients(w, b, xv=x_vector, yv=y_vector):\n",
    "    tmp_w, tmp_b = 0,0\n",
    "    for i in range(len(xv)):\n",
    "        tmp_w += -2*xv[i]*(yv[i]-(w*xv[i]+b))\n",
    "        tmp_b += -2*(yv[i]-(w*xv[i]+b))\n",
    "\n",
    "    return tmp_w/len(xv), tmp_b/len(xv)"
   ]
  },
  {
   "cell_type": "code",
   "execution_count": 105,
   "id": "700453fc-0b8a-4951-9a96-d1e2e298d984",
   "metadata": {},
   "outputs": [],
   "source": [
    "%matplotlib inline\n",
    "import matplotlib.pyplot as plt\n",
    "from matplotlib.animation import FuncAnimation\n",
    "\n",
    "def train():\n",
    "    w = 0\n",
    "    b = 0\n",
    "    rate = 0.001\n",
    "    epoch = 100\n",
    "    weights = []\n",
    "    biases = []\n",
    "    \n",
    "    for _ in range(epoch):\n",
    "        tmp_w, tmp_b = get_gradients(w,b, x_vector, y_vector)\n",
    "        w -= 1*rate*tmp_w\n",
    "        b -= 1*rate*tmp_b\n",
    "        weights.append(w)\n",
    "        biases.append(b)\n",
    "        \n",
    "\n",
    "    line_eq = w*x_vector + b\n",
    "    fig, ax = plt.subplots()\n",
    "    ax.plot(x_vector, y_vector, 'o')\n",
    "    #line_plot, = ax.plot(x_vector, weights[0] * x_vector + biases[0], '-', label=\"Fitting line\")  # Line plot\n",
    "    line_plot, = ax.plot(x_vector, weights[-1] * x_vector + biases[-1], '-', label=\"Best-fit line\")  # Line plot\n",
    "\n",
    "    ax.set_title(\"[Food] Delivery Time Prediction\")\n",
    "    ax.set_ylabel(\"Delivery Time Taken (Minutes)\")\n",
    "    ax.set_xlabel(\"Distance (Km)\")\n",
    "    plt.legend()\n",
    "\n",
    "    # Animation update function\n",
    "    #def update(frame):\n",
    "        #line_plot.set_ydata(weights[frame] * x_vector + biases[frame])  # Update line\n",
    "        #return line_plot,\n",
    "\n",
    "    # Create the animation\n",
    "    #ani = FuncAnimation(fig, update, frames=range(epoch), interval=10, blit=True)\n",
    "    #ani.save('linear_regression_A.gif', writer='ffmpeg') \n",
    "\n",
    "    # Display the animation\n",
    "    plt.show()"
   ]
  },
  {
   "cell_type": "code",
   "execution_count": 106,
   "id": "302b6ad6-876e-4880-a2d1-d8ab4778ae85",
   "metadata": {},
   "outputs": [],
   "source": [
    "def main():\n",
    "    train()"
   ]
  },
  {
   "cell_type": "code",
   "execution_count": 107,
   "id": "5dfbc0fc-0d62-4cc4-89ad-ba691f12c914",
   "metadata": {},
   "outputs": [
    {
     "data": {
      "image/png": "[encoded data removed]",
      "text/plain": [
       "<Figure size 640x480 with 1 Axes>"
      ]
     },
     "metadata": {},
     "output_type": "display_data"
    }
   ],
   "source": [
    "main()"
   ]
  },
  {
   "cell_type": "code",
   "execution_count": null,
   "id": "d765baa8-59ab-41a9-b648-be8c81af24ab",
   "metadata": {},
   "outputs": [],
   "source": []
  }
 ],
 "metadata": {
  "kernelspec": {
   "display_name": "Python 3 (ipykernel)",
   "language": "python",
   "name": "python3"
  },
  "language_info": {
   "codemirror_mode": {
    "name": "ipython",
    "version": 3
   },
   "file_extension": ".py",
   "mimetype": "text/x-python",
   "name": "python",
   "nbconvert_exporter": "python",
   "pygments_lexer": "ipython3",
   "version": "3.13.1"
  }
 },
 "nbformat": 4,
 "nbformat_minor": 5
}
